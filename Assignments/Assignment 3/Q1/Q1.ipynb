{
 "cells": [
  {
   "cell_type": "markdown",
   "metadata": {},
   "source": [
    "# Imports"
   ]
  },
  {
   "cell_type": "code",
   "execution_count": 11,
   "metadata": {},
   "outputs": [],
   "source": [
    "# Imports\n",
    "import numpy as np\n",
    "import pandas as pd\n",
    "import matplotlib.pyplot as plt"
   ]
  },
  {
   "cell_type": "markdown",
   "metadata": {},
   "source": [
    "# Constants"
   ]
  },
  {
   "cell_type": "code",
   "execution_count": 12,
   "metadata": {},
   "outputs": [],
   "source": [
    "# Set all the Constants\n",
    "kBBar = 0.695038\n",
    "GramToKiloGram = 1/1000\n",
    "eVToJoules = 1.602*10**(-19)\n",
    "No = 6.022*10**(23)\n",
    "R = 8.314\n",
    "\n",
    "# MW\n",
    "MW_H = 1.01\n",
    "MW_I = 126.9"
   ]
  },
  {
   "cell_type": "markdown",
   "metadata": {},
   "source": [
    "# Z Rot Calculation"
   ]
  },
  {
   "cell_type": "code",
   "execution_count": 13,
   "metadata": {},
   "outputs": [
    {
     "data": {
      "text/html": [
       "<div>\n",
       "<style scoped>\n",
       "    .dataframe tbody tr th:only-of-type {\n",
       "        vertical-align: middle;\n",
       "    }\n",
       "\n",
       "    .dataframe tbody tr th {\n",
       "        vertical-align: top;\n",
       "    }\n",
       "\n",
       "    .dataframe thead th {\n",
       "        text-align: right;\n",
       "    }\n",
       "</style>\n",
       "<table border=\"1\" class=\"dataframe\">\n",
       "  <thead>\n",
       "    <tr style=\"text-align: right;\">\n",
       "      <th></th>\n",
       "      <th>Molecule</th>\n",
       "      <th>Be</th>\n",
       "      <th>Sigma</th>\n",
       "      <th>PhiRot</th>\n",
       "    </tr>\n",
       "  </thead>\n",
       "  <tbody>\n",
       "    <tr>\n",
       "      <th>0</th>\n",
       "      <td>H2</td>\n",
       "      <td>60.8530</td>\n",
       "      <td>2</td>\n",
       "      <td>87.553486</td>\n",
       "    </tr>\n",
       "    <tr>\n",
       "      <th>1</th>\n",
       "      <td>I2</td>\n",
       "      <td>0.0373</td>\n",
       "      <td>2</td>\n",
       "      <td>0.053666</td>\n",
       "    </tr>\n",
       "    <tr>\n",
       "      <th>2</th>\n",
       "      <td>HI</td>\n",
       "      <td>6.4264</td>\n",
       "      <td>1</td>\n",
       "      <td>9.246113</td>\n",
       "    </tr>\n",
       "  </tbody>\n",
       "</table>\n",
       "</div>"
      ],
      "text/plain": [
       "  Molecule       Be  Sigma     PhiRot\n",
       "0       H2  60.8530      2  87.553486\n",
       "1       I2   0.0373      2   0.053666\n",
       "2       HI   6.4264      1   9.246113"
      ]
     },
     "metadata": {},
     "output_type": "display_data"
    }
   ],
   "source": [
    "# Create Data Frame\n",
    "ZRotInfo = pd.DataFrame({\n",
    "    \"Molecule\" : [\"H2\", \"I2\", \"HI\"],\n",
    "    \"Be\" : [60.853, 0.0373, 6.4264],\n",
    "    \"Sigma\" : [2, 2, 1]\n",
    "})\n",
    "\n",
    "# Calculate into Table\n",
    "ZRotInfo[\"PhiRot\"] = ZRotInfo[\"Be\"]/kBBar\n",
    "\n",
    "# Create Lambda Functions\n",
    "ZRot_H2 = lambda T: T/(ZRotInfo[\"Sigma\"][0] * ZRotInfo[\"PhiRot\"][0])\n",
    "ZRot_I2 = lambda T: T/(ZRotInfo[\"Sigma\"][1] * ZRotInfo[\"PhiRot\"][1])\n",
    "ZRot_HI = lambda T: T/(ZRotInfo[\"Sigma\"][2] * ZRotInfo[\"PhiRot\"][2])\n",
    "\n",
    "# Display Table\n",
    "display(ZRotInfo)"
   ]
  },
  {
   "cell_type": "markdown",
   "metadata": {},
   "source": [
    "# Z Vib Calculation"
   ]
  },
  {
   "cell_type": "code",
   "execution_count": 14,
   "metadata": {},
   "outputs": [
    {
     "data": {
      "text/html": [
       "<div>\n",
       "<style scoped>\n",
       "    .dataframe tbody tr th:only-of-type {\n",
       "        vertical-align: middle;\n",
       "    }\n",
       "\n",
       "    .dataframe tbody tr th {\n",
       "        vertical-align: top;\n",
       "    }\n",
       "\n",
       "    .dataframe thead th {\n",
       "        text-align: right;\n",
       "    }\n",
       "</style>\n",
       "<table border=\"1\" class=\"dataframe\">\n",
       "  <thead>\n",
       "    <tr style=\"text-align: right;\">\n",
       "      <th></th>\n",
       "      <th>Molecule</th>\n",
       "      <th>Vosc</th>\n",
       "      <th>PhiVib</th>\n",
       "    </tr>\n",
       "  </thead>\n",
       "  <tbody>\n",
       "    <tr>\n",
       "      <th>0</th>\n",
       "      <td>H2</td>\n",
       "      <td>4401.21</td>\n",
       "      <td>6332.330031</td>\n",
       "    </tr>\n",
       "    <tr>\n",
       "      <th>1</th>\n",
       "      <td>I2</td>\n",
       "      <td>214.50</td>\n",
       "      <td>308.616220</td>\n",
       "    </tr>\n",
       "    <tr>\n",
       "      <th>2</th>\n",
       "      <td>HI</td>\n",
       "      <td>2309.01</td>\n",
       "      <td>3322.134905</td>\n",
       "    </tr>\n",
       "  </tbody>\n",
       "</table>\n",
       "</div>"
      ],
      "text/plain": [
       "  Molecule     Vosc       PhiVib\n",
       "0       H2  4401.21  6332.330031\n",
       "1       I2   214.50   308.616220\n",
       "2       HI  2309.01  3322.134905"
      ]
     },
     "metadata": {},
     "output_type": "display_data"
    }
   ],
   "source": [
    "# Create DataFrame\n",
    "ZVibInfo = pd.DataFrame({\n",
    "    \"Molecule\" : [\"H2\", \"I2\", \"HI\"],\n",
    "    \"Vosc\" : [4401.21, 214.50, 2309.01]\n",
    "})\n",
    "\n",
    "# Calculate the Table\n",
    "ZVibInfo[\"PhiVib\"] = ZVibInfo[\"Vosc\"]/kBBar\n",
    "\n",
    "# Create Lambda Functions\n",
    "ZVib_H2 = lambda T: 1/(1 - np.exp(-ZVibInfo[\"PhiVib\"][0]/T))\n",
    "ZVib_I2 = lambda T: 1/(1 - np.exp(-ZVibInfo[\"PhiVib\"][1]/T))\n",
    "ZVib_HI = lambda T: 1/(1 - np.exp(-ZVibInfo[\"PhiVib\"][2]/T))\n",
    "\n",
    "# Display the Table\n",
    "display(ZVibInfo)"
   ]
  },
  {
   "cell_type": "markdown",
   "metadata": {},
   "source": [
    "# Molecular Weight Calculation"
   ]
  },
  {
   "cell_type": "code",
   "execution_count": 15,
   "metadata": {},
   "outputs": [
    {
     "data": {
      "text/html": [
       "<div>\n",
       "<style scoped>\n",
       "    .dataframe tbody tr th:only-of-type {\n",
       "        vertical-align: middle;\n",
       "    }\n",
       "\n",
       "    .dataframe tbody tr th {\n",
       "        vertical-align: top;\n",
       "    }\n",
       "\n",
       "    .dataframe thead th {\n",
       "        text-align: right;\n",
       "    }\n",
       "</style>\n",
       "<table border=\"1\" class=\"dataframe\">\n",
       "  <thead>\n",
       "    <tr style=\"text-align: right;\">\n",
       "      <th></th>\n",
       "      <th>Molecule</th>\n",
       "      <th>MW Atom 1</th>\n",
       "      <th>MW Atom 2</th>\n",
       "      <th>MW Total</th>\n",
       "      <th>MW Total Kg</th>\n",
       "    </tr>\n",
       "  </thead>\n",
       "  <tbody>\n",
       "    <tr>\n",
       "      <th>0</th>\n",
       "      <td>H2</td>\n",
       "      <td>1.01</td>\n",
       "      <td>1.01</td>\n",
       "      <td>2.02</td>\n",
       "      <td>0.00202</td>\n",
       "    </tr>\n",
       "    <tr>\n",
       "      <th>1</th>\n",
       "      <td>I2</td>\n",
       "      <td>126.90</td>\n",
       "      <td>126.90</td>\n",
       "      <td>253.80</td>\n",
       "      <td>0.25380</td>\n",
       "    </tr>\n",
       "    <tr>\n",
       "      <th>2</th>\n",
       "      <td>HI</td>\n",
       "      <td>1.01</td>\n",
       "      <td>126.90</td>\n",
       "      <td>127.91</td>\n",
       "      <td>0.12791</td>\n",
       "    </tr>\n",
       "  </tbody>\n",
       "</table>\n",
       "</div>"
      ],
      "text/plain": [
       "  Molecule  MW Atom 1  MW Atom 2  MW Total  MW Total Kg\n",
       "0       H2       1.01       1.01      2.02      0.00202\n",
       "1       I2     126.90     126.90    253.80      0.25380\n",
       "2       HI       1.01     126.90    127.91      0.12791"
      ]
     },
     "metadata": {},
     "output_type": "display_data"
    }
   ],
   "source": [
    "# Create DataFrame\n",
    "MWInfo = pd.DataFrame({\n",
    "    \"Molecule\" : [\"H2\", \"I2\", \"HI\"],\n",
    "    \"MW Atom 1\" : [MW_H, MW_I, MW_H],\n",
    "    \"MW Atom 2\" : [MW_H, MW_I, MW_I]\n",
    "})\n",
    "\n",
    "# Calculate the Total MW\n",
    "MWInfo[\"MW Total\"] = MWInfo[\"MW Atom 1\"] + MWInfo[\"MW Atom 2\"]\n",
    "\n",
    "# Calculate with Actual Units\n",
    "MWInfo[\"MW Total Kg\"] = MWInfo[\"MW Total\"] * GramToKiloGram\n",
    "\n",
    "# Display the Table\n",
    "display(MWInfo)"
   ]
  },
  {
   "cell_type": "markdown",
   "metadata": {},
   "source": [
    "# W electric Info"
   ]
  },
  {
   "cell_type": "code",
   "execution_count": 16,
   "metadata": {},
   "outputs": [
    {
     "data": {
      "text/html": [
       "<div>\n",
       "<style scoped>\n",
       "    .dataframe tbody tr th:only-of-type {\n",
       "        vertical-align: middle;\n",
       "    }\n",
       "\n",
       "    .dataframe tbody tr th {\n",
       "        vertical-align: top;\n",
       "    }\n",
       "\n",
       "    .dataframe thead th {\n",
       "        text-align: right;\n",
       "    }\n",
       "</style>\n",
       "<table border=\"1\" class=\"dataframe\">\n",
       "  <thead>\n",
       "    <tr style=\"text-align: right;\">\n",
       "      <th></th>\n",
       "      <th>Molecule</th>\n",
       "      <th>Wel</th>\n",
       "    </tr>\n",
       "  </thead>\n",
       "  <tbody>\n",
       "    <tr>\n",
       "      <th>0</th>\n",
       "      <td>H2</td>\n",
       "      <td>1</td>\n",
       "    </tr>\n",
       "    <tr>\n",
       "      <th>1</th>\n",
       "      <td>I2</td>\n",
       "      <td>1</td>\n",
       "    </tr>\n",
       "    <tr>\n",
       "      <th>2</th>\n",
       "      <td>HI</td>\n",
       "      <td>1</td>\n",
       "    </tr>\n",
       "  </tbody>\n",
       "</table>\n",
       "</div>"
      ],
      "text/plain": [
       "  Molecule  Wel\n",
       "0       H2    1\n",
       "1       I2    1\n",
       "2       HI    1"
      ]
     },
     "metadata": {},
     "output_type": "display_data"
    }
   ],
   "source": [
    "# Create DataFrame\n",
    "WelInfo = pd.DataFrame({\n",
    "     \"Molecule\" : [\"H2\", \"I2\", \"HI\"],\n",
    "     \"Wel\" : [1, 1, 1]\n",
    "})\n",
    "\n",
    "# Display the Table\n",
    "display(WelInfo)"
   ]
  },
  {
   "cell_type": "markdown",
   "metadata": {},
   "source": [
    "# ΔUo Calculation"
   ]
  },
  {
   "cell_type": "code",
   "execution_count": 17,
   "metadata": {},
   "outputs": [
    {
     "name": "stdout",
     "output_type": "stream",
     "text": [
      "ΔUo :  8459.668263599997\n"
     ]
    },
    {
     "data": {
      "text/html": [
       "<div>\n",
       "<style scoped>\n",
       "    .dataframe tbody tr th:only-of-type {\n",
       "        vertical-align: middle;\n",
       "    }\n",
       "\n",
       "    .dataframe tbody tr th {\n",
       "        vertical-align: top;\n",
       "    }\n",
       "\n",
       "    .dataframe thead th {\n",
       "        text-align: right;\n",
       "    }\n",
       "</style>\n",
       "<table border=\"1\" class=\"dataframe\">\n",
       "  <thead>\n",
       "    <tr style=\"text-align: right;\">\n",
       "      <th></th>\n",
       "      <th>Molecule</th>\n",
       "      <th>Do eV</th>\n",
       "      <th>Do Joules</th>\n",
       "    </tr>\n",
       "  </thead>\n",
       "  <tbody>\n",
       "    <tr>\n",
       "      <th>0</th>\n",
       "      <td>H2</td>\n",
       "      <td>4.47813</td>\n",
       "      <td>7.173964e-19</td>\n",
       "    </tr>\n",
       "    <tr>\n",
       "      <th>1</th>\n",
       "      <td>I2</td>\n",
       "      <td>1.54238</td>\n",
       "      <td>2.470893e-19</td>\n",
       "    </tr>\n",
       "    <tr>\n",
       "      <th>2</th>\n",
       "      <td>HI</td>\n",
       "      <td>3.05410</td>\n",
       "      <td>4.892668e-19</td>\n",
       "    </tr>\n",
       "  </tbody>\n",
       "</table>\n",
       "</div>"
      ],
      "text/plain": [
       "  Molecule    Do eV     Do Joules\n",
       "0       H2  4.47813  7.173964e-19\n",
       "1       I2  1.54238  2.470893e-19\n",
       "2       HI  3.05410  4.892668e-19"
      ]
     },
     "metadata": {},
     "output_type": "display_data"
    }
   ],
   "source": [
    "# Create DataFrame\n",
    "# Create DataFrame\n",
    "UOInfo = pd.DataFrame({\n",
    "     \"Molecule\" : [\"H2\", \"I2\", \"HI\"],\n",
    "     \"Do eV\" : [4.47813, 1.54238, 3.0541]\n",
    "})\n",
    "\n",
    "# Convert to Joules\n",
    "UOInfo[\"Do Joules\"] = UOInfo[\"Do eV\"] * eVToJoules\n",
    "\n",
    "# Calculate Uo\n",
    "#Uo = -No * (2*UOInfo[\"Do Joules\"][2] - (UOInfo[\"Do Joules\"][1] + UOInfo[\"Do Joules\"][0]))\n",
    "Uo = -No * ((UOInfo[\"Do Joules\"][1] + UOInfo[\"Do Joules\"][0]) - 2*UOInfo[\"Do Joules\"][2])\n",
    "\n",
    "# Create Lambda Function\n",
    "DelUoContribution = lambda T : np.exp(-Uo/(R*T))\n",
    "\n",
    "# Display Uo\n",
    "print(\"ΔUo : \", Uo)\n",
    "\n",
    "# Display the Table\n",
    "display(UOInfo)"
   ]
  },
  {
   "cell_type": "markdown",
   "metadata": {},
   "source": [
    "# Creating Kp Function"
   ]
  },
  {
   "cell_type": "code",
   "execution_count": 18,
   "metadata": {},
   "outputs": [
    {
     "data": {
      "image/png": "[encoded data removed]",
      "text/plain": [
       "<Figure size 1600x1000 with 1 Axes>"
      ]
     },
     "metadata": {},
     "output_type": "display_data"
    }
   ],
   "source": [
    "# H2 Contribution\n",
    "H2Contribution = lambda T: MWInfo[\"MW Total Kg\"][0]**(3/2)*ZRot_H2(T)*ZVib_H2(T)\n",
    "\n",
    "# I2 Contribution\n",
    "I2Contribution = lambda T: MWInfo[\"MW Total Kg\"][1]**(3/2)*ZRot_I2(T)*ZVib_I2(T)\n",
    "\n",
    "# HI Contribution\n",
    "HIContribution = lambda T: MWInfo[\"MW Total Kg\"][2]**(3/2)*ZRot_HI(T)*ZVib_HI(T)\n",
    "\n",
    "# Final Kp Equation\n",
    "Kp = lambda T: ((H2Contribution(T) * I2Contribution(T)) / (HIContribution(T)**2)) * DelUoContribution(T)\n",
    "\n",
    "# Get the T Spacing\n",
    "t = np.linspace(300, 3000, 1000)\n",
    "\n",
    "# Plotting\n",
    "plt.figure(figsize=(16, 10))\n",
    "plt.title(\"Equilibirum Constant of the Reaction 2HI ⇋ H₂ + I₂ at different Temperatures\")\n",
    "plt.xlabel(\"Temperature (Kelvin)\")\n",
    "plt.ylabel(\"Equilibrium Constant Value\")\n",
    "plt.plot(t, Kp(t))\n",
    "plt.savefig(\"EquilibriumConstant.png\")\n",
    "plt.show()"
   ]
  },
  {
   "cell_type": "code",
   "execution_count": 19,
   "metadata": {},
   "outputs": [
    {
     "name": "stdout",
     "output_type": "stream",
     "text": [
      "0.019522949879168278\n",
      "0.014604183123842367\n"
     ]
    }
   ],
   "source": [
    "print(Kp(763.8))\n",
    "print(Kp(666.8))"
   ]
  }
 ],
 "metadata": {
  "kernelspec": {
   "display_name": "Python 3",
   "language": "python",
   "name": "python3"
  },
  "language_info": {
   "codemirror_mode": {
    "name": "ipython",
    "version": 3
   },
   "file_extension": ".py",
   "mimetype": "text/x-python",
   "name": "python",
   "nbconvert_exporter": "python",
   "pygments_lexer": "ipython3",
   "version": "3.12.3"
  }
 },
 "nbformat": 4,
 "nbformat_minor": 2
}
